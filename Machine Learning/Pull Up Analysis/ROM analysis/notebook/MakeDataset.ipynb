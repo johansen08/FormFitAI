{
 "cells": [
  {
   "cell_type": "markdown",
   "id": "184bc643-fdf3-48ad-a9a9-1f49fdcaf059",
   "metadata": {},
   "source": [
    "# 0. Install and Import Dependencies"
   ]
  },
  {
   "cell_type": "code",
   "execution_count": null,
   "id": "9647f9eb-f08b-43ad-a9d6-d4a17f6e9bbc",
   "metadata": {},
   "outputs": [],
   "source": [
    "# !pip install mediapipe opencv-python pandas"
   ]
  },
  {
   "cell_type": "code",
   "execution_count": 1,
   "id": "ad392671-30a1-479e-9d73-3b323094764f",
   "metadata": {},
   "outputs": [],
   "source": [
    "import mediapipe as mp\n",
    "import cv2\n",
    "import numpy as np\n",
    "import csv\n",
    "import warnings\n",
    "warnings.filterwarnings('ignore')"
   ]
  },
  {
   "cell_type": "code",
   "execution_count": null,
   "id": "bba94a17-435b-48ba-96af-cc38e4c7e1d0",
   "metadata": {},
   "outputs": [],
   "source": [
    "mp_drawing = mp.solutions.drawing_utils #Drawing helpers\n",
    "mp_pose = mp.solutions.pose # initiate model pose"
   ]
  },
  {
   "cell_type": "markdown",
   "id": "f1687326-e61d-440a-a2fc-88d0540439f2",
   "metadata": {},
   "source": [
    "# 1. Extract Video to Dataset"
   ]
  },
  {
   "cell_type": "code",
   "execution_count": null,
   "id": "93f66af9-c757-4212-996f-ce9e0fbea1d3",
   "metadata": {},
   "outputs": [],
   "source": [
    "# for initiate header\n",
    "landmarks = [\"class\"]\n",
    "for val in range(1, 33+1):\n",
    "    landmarks += ['x{}'.format(val), 'y{}'.format(val), 'z{}'.format(val), 'v{}'.format(val)]"
   ]
  },
  {
   "cell_type": "code",
   "execution_count": null,
   "id": "b6f5e0a9-44d2-447a-a76c-9a8032cc2ff8",
   "metadata": {},
   "outputs": [],
   "source": [
    "# writing header for dataset file\n",
    "with open('../dataset/momentum_v1.csv', mode='w', newline='') as f:\n",
    "    csv_writer = csv.writer(f, delimiter=',', quotechar='\"', quoting=csv.QUOTE_MINIMAL)\n",
    "    csv_writer.writerow(landmarks)"
   ]
  },
  {
   "cell_type": "code",
   "execution_count": null,
   "id": "58e5a095-a62c-4a5c-9246-0130b380a9ef",
   "metadata": {},
   "outputs": [],
   "source": [
    "# function to write to csv file\n",
    "def export_landmark(results, action):\n",
    "    try:\n",
    "        keypoints = np.array([[res.x, res.y, res.z, res.visibility] for res in results.pose_landmarks.landmark]).flatten().tolist()\n",
    "        keypoints.insert(0, action)\n",
    "        with open('../dataset/momentum_1v.csv', mode='a', newline='') as f:\n",
    "            csv_writer = csv.writer(f, delimiter=',', quotechar='\"', quoting=csv.QUOTE_MINIMAL)\n",
    "            csv_writer.writerow(keypoints)\n",
    "    except Exception as e:\n",
    "        pass"
   ]
  },
  {
   "cell_type": "code",
   "execution_count": null,
   "id": "0b4b39a5-9722-46e3-97d0-fa6f7797b718",
   "metadata": {},
   "outputs": [],
   "source": [
    "vid_path = \"../../data/momentum/?\" # path to video\n",
    "cap = cv2.VideoCapture(vid_path) #initiate video capture\n",
    "\n",
    "#Initiate Holistic Model\n",
    "with mp_pose.Pose(min_detection_confidence=0.5, min_tracking_confidence=0.5) as pose:\n",
    "    \n",
    "    # streaming the video\n",
    "    while cap.isOpened():\n",
    "        ret, frame = cap.read()\n",
    "\n",
    "        # recolor feed\n",
    "        image = cv2.cvtColor(frame, cv2.COLOR_BGR2RGB)\n",
    "        image.flags.writeable = False\n",
    "    \n",
    "        # Make detections\n",
    "        results = pose.process(image)\n",
    "    \n",
    "        # Recolor image back to BGR for rendering\n",
    "        image.flags.writeable = False\n",
    "        image = cv2.cvtColor(frame, cv2.COLOR_RGB2BGR)\n",
    "    \n",
    "        mp_drawing.draw_landmarks(image, results.pose_landmarks, mp_pose.POSE_CONNECTIONS,\n",
    "                                  mp_drawing.DrawingSpec(color=(245,117,66), thickness=2, circle_radius=4),\n",
    "                                  mp_drawing.DrawingSpec(color=(245,66,230), thickness=2, circle_radius=2))\n",
    "\n",
    "        if results.pose_landmarks:\n",
    "            import matplotlib.pyplot as plt\n",
    "\n",
    "            fig = plt.figure()\n",
    "            ax = fig.add_subplot(111, projection=\"3d\")\n",
    "            fig.subplots_adjust(left=0.0, right=1, bottom=0, top=1)\n",
    "\n",
    "            plot_world_landmarks(\n",
    "                plt,\n",
    "                ax,\n",
    "                results.pose_world_landmarks,\n",
    "            )\n",
    "\n",
    "        # # extract landmarks\n",
    "        # k = cv2.waitKey(1)\n",
    "        # if k == 106: # while j is pressed, landmark will be recorded as class 0 => normal\n",
    "        #     export_landmark(results, 0)\n",
    "        # if k == 107: # while k is pressed, landmark will be recorded as class 1 => narrow\n",
    "        #     export_landmark(results, 1)\n",
    "        # if k == 108: # while l is pressed, landmark will be recorded as class 2 => wide\n",
    "        #     export_landmark(results, 2)\n",
    "            \n",
    "        # Stream vid result\n",
    "        cv2.imshow(\"Raw Cam Feed\", image)\n",
    "\n",
    "        # press 'q' than the video will stop\n",
    "        if cv2.waitKey(1) & 0xFF == ord('q'):\n",
    "            break\n",
    "\n",
    "cap.release()\n",
    "cv2.destroyAllWindows()"
   ]
  },
  {
   "cell_type": "code",
   "execution_count": null,
   "id": "8a9db406-ba99-4ace-baff-cf25738e8fb4",
   "metadata": {},
   "outputs": [],
   "source": [
    "result"
   ]
  },
  {
   "cell_type": "code",
   "execution_count": null,
   "id": "889daf4b-2b43-467f-922f-7465a0567ace",
   "metadata": {},
   "outputs": [],
   "source": []
  }
 ],
 "metadata": {
  "kernelspec": {
   "display_name": "Python 3 (ipykernel)",
   "language": "python",
   "name": "python3"
  },
  "language_info": {
   "codemirror_mode": {
    "name": "ipython",
    "version": 3
   },
   "file_extension": ".py",
   "mimetype": "text/x-python",
   "name": "python",
   "nbconvert_exporter": "python",
   "pygments_lexer": "ipython3",
   "version": "3.11.7"
  }
 },
 "nbformat": 4,
 "nbformat_minor": 5
}
