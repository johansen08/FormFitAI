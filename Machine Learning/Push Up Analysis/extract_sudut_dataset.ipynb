{
 "cells": [
  {
   "cell_type": "markdown",
   "id": "184bc643-fdf3-48ad-a9a9-1f49fdcaf059",
   "metadata": {},
   "source": [
    "# Import Module / Library"
   ]
  },
  {
   "cell_type": "code",
   "execution_count": 1,
   "id": "ad392671-30a1-479e-9d73-3b323094764f",
   "metadata": {},
   "outputs": [],
   "source": [
    "import mediapipe as mp\n",
    "import cv2\n",
    "import numpy as np\n",
    "import csv"
   ]
  },
  {
   "cell_type": "markdown",
   "id": "c0dd788b",
   "metadata": {},
   "source": [
    "# Initialize Mediapipe "
   ]
  },
  {
   "cell_type": "code",
   "execution_count": 2,
   "id": "bba94a17-435b-48ba-96af-cc38e4c7e1d0",
   "metadata": {},
   "outputs": [],
   "source": [
    "mp_drawing = mp.solutions.drawing_utils \n",
    "mp_pose = mp.solutions.pose"
   ]
  },
  {
   "cell_type": "markdown",
   "id": "087e17ac",
   "metadata": {},
   "source": [
    "# Create Header Dataset"
   ]
  },
  {
   "cell_type": "code",
   "execution_count": 3,
   "id": "e8af87d0",
   "metadata": {},
   "outputs": [],
   "source": [
    "landmarks = [\"class\", \"sudut_kiri\", \"sudut_kanan\"]"
   ]
  },
  {
   "cell_type": "code",
   "execution_count": 4,
   "id": "bb38b5b1",
   "metadata": {},
   "outputs": [],
   "source": [
    "with open('sudut_hip.csv', mode='w', newline='') as f:\n",
    "    csv_writer = csv.writer(f, delimiter=',', quotechar='\"', quoting=csv.QUOTE_MINIMAL)\n",
    "    csv_writer.writerow(landmarks)"
   ]
  },
  {
   "cell_type": "markdown",
   "id": "0bb9da6c",
   "metadata": {},
   "source": [
    "# Create Function Calculate Angle"
   ]
  },
  {
   "cell_type": "code",
   "execution_count": 5,
   "id": "c164b924",
   "metadata": {},
   "outputs": [],
   "source": [
    "def hitung_sudut(a, b, c):\n",
    "    a = np.array(a)\n",
    "    b = np.array(b)\n",
    "    c = np.array(c)\n",
    "    \n",
    "    radians = np.arctan2(c[1] - b[1], c[0] - b[0]) - np.arctan2(a[1] - b[1], a[0] - b[0])\n",
    "    sudut = np.abs(radians * 180.0 / np.pi)\n",
    "    \n",
    "    if sudut > 180.0:\n",
    "        sudut = 360 - sudut\n",
    "        \n",
    "    return sudut"
   ]
  },
  {
   "cell_type": "markdown",
   "id": "8930c76f",
   "metadata": {},
   "source": [
    "# Create Function Store Angle"
   ]
  },
  {
   "cell_type": "code",
   "execution_count": 6,
   "id": "e0399e78",
   "metadata": {},
   "outputs": [],
   "source": [
    "def export_sudut(results, label):\n",
    "    try:\n",
    "        # Ekstraksi koordinat yang diperlukan\n",
    "        coords = results.pose_landmarks.landmark\n",
    "        titik_11 = [coords[11].x, coords[11].y]\n",
    "        titik_12 = [coords[12].x, coords[12].y]\n",
    "        titik_23 = [coords[23].x, coords[23].y]\n",
    "        titik_24 = [coords[24].x, coords[24].y]\n",
    "        titik_25 = [coords[25].x, coords[25].y]\n",
    "        titik_26 = [coords[26].x, coords[26].y]\n",
    "\n",
    "        # Hitung sudut kiri dan kanan\n",
    "        sudut_kiri = hitung_sudut(titik_11, titik_23, titik_25)\n",
    "        sudut_kanan = hitung_sudut(titik_12, titik_24, titik_26)\n",
    "\n",
    "        row = [label, sudut_kiri, sudut_kanan]\n",
    "\n",
    "        with open('sudut_hip.csv', mode='a', newline='') as f:\n",
    "            csv_writer = csv.writer(f, delimiter=',', quotechar='\"', quoting=csv.QUOTE_MINIMAL)\n",
    "            csv_writer.writerow(row)\n",
    "    except Exception as e:\n",
    "        print(f\"Error: {e}\")\n",
    "        pass"
   ]
  },
  {
   "cell_type": "markdown",
   "id": "f1687326-e61d-440a-a2fc-88d0540439f2",
   "metadata": {},
   "source": [
    "# Extract Video to Dataset"
   ]
  },
  {
   "cell_type": "code",
   "execution_count": null,
   "id": "0b4b39a5-9722-46e3-97d0-fa6f7797b718",
   "metadata": {},
   "outputs": [],
   "source": [
    "cap = cv2.VideoCapture(\"bottom_pos.mp4\")\n",
    "\n",
    "#Initiate Holistic Model\n",
    "with mp_pose.Pose(min_detection_confidence=0.5, min_tracking_confidence=0.5) as pose:\n",
    "\n",
    "    # streaming the video\n",
    "    while cap.isOpened():\n",
    "        ret, frame = cap.read()\n",
    "        if not ret:\n",
    "            break\n",
    "\n",
    "        # Resize the frame to the desired window size\n",
    "        frame = cv2.resize(frame, (640, 480))\n",
    "\n",
    "        # recolor feed\n",
    "        image = cv2.cvtColor(frame, cv2.COLOR_BGR2RGB)\n",
    "        image.flags.writeable = False\n",
    "    \n",
    "        # Make detections\n",
    "        results = pose.process(image)\n",
    "    \n",
    "        # Recolor image back to BGR for rendering\n",
    "        image.flags.writeable = True\n",
    "        image = cv2.cvtColor(frame, cv2.COLOR_RGB2BGR)\n",
    "    \n",
    "        mp_drawing.draw_landmarks(image, results.pose_landmarks, mp_pose.POSE_CONNECTIONS,\n",
    "                                  mp_drawing.DrawingSpec(color=(245,117,66), thickness=2, circle_radius=4),\n",
    "                                  mp_drawing.DrawingSpec(color=(245,66,230), thickness=2, circle_radius=2))\n",
    "        \n",
    "        k = cv2.waitKey(1)\n",
    "        if k == ord('b'):  # Press 'u' for 'up'\n",
    "            export_sudut(results, 1)\n",
    "        elif k == ord('s'):  # Press 'd' for 'down'\n",
    "            export_sudut(results, 0)\n",
    "        elif k == ord('q'):  # Press 'q' to quit\n",
    "            break\n",
    "        # Stream vid result\n",
    "        cv2.imshow(\"Raw Cam Feed\", image)\n",
    "\n",
    "    cap.release()\n",
    "    cv2.destroyAllWindows()"
   ]
  }
 ],
 "metadata": {
  "kernelspec": {
   "display_name": "Python 3 (ipykernel)",
   "language": "python",
   "name": "python3"
  },
  "language_info": {
   "codemirror_mode": {
    "name": "ipython",
    "version": 3
   },
   "file_extension": ".py",
   "mimetype": "text/x-python",
   "name": "python",
   "nbconvert_exporter": "python",
   "pygments_lexer": "ipython3",
   "version": "3.9.0"
  }
 },
 "nbformat": 4,
 "nbformat_minor": 5
}
